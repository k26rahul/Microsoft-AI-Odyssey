{
 "cells": [
  {
   "cell_type": "markdown",
   "metadata": {},
   "source": [
    "# Importing libraries"
   ]
  },
  {
   "cell_type": "code",
   "execution_count": 1,
   "metadata": {},
   "outputs": [],
   "source": [
    "from dotenv import load_dotenv\n",
    "import os"
   ]
  },
  {
   "cell_type": "code",
   "execution_count": 3,
   "metadata": {},
   "outputs": [],
   "source": [
    "from azure.core.credentials import AzureKeyCredential\n",
    "from azure.ai.language.questionanswering import QuestionAnsweringClient"
   ]
  },
  {
   "cell_type": "code",
   "execution_count": 33,
   "metadata": {},
   "outputs": [],
   "source": [
    "from functools import lru_cache"
   ]
  },
  {
   "cell_type": "markdown",
   "metadata": {},
   "source": [
    "# Load configurations"
   ]
  },
  {
   "cell_type": "code",
   "execution_count": 14,
   "metadata": {},
   "outputs": [
    {
     "data": {
      "text/plain": [
       "True"
      ]
     },
     "execution_count": 14,
     "metadata": {},
     "output_type": "execute_result"
    }
   ],
   "source": [
    "load_dotenv()\n",
    "ai_endpoint = os.getenv('AI_LANGUAGE_SERVICE_ENDPOINT')\n",
    "ai_key = os.getenv('AI_LANGUAGE_SERVICE_KEY')\n",
    "ai_project_name = os.getenv('QnA_PROJECT_NAME')\n",
    "ai_deployment_name = os.getenv('QnA_DEPLOYMENT_NAME')"
   ]
  },
  {
   "cell_type": "markdown",
   "metadata": {},
   "source": [
    "# Create SDK client"
   ]
  },
  {
   "cell_type": "code",
   "execution_count": 15,
   "metadata": {},
   "outputs": [],
   "source": [
    "credential = AzureKeyCredential(ai_key)\n",
    "ai_client = QuestionAnsweringClient(\n",
    "    endpoint=ai_endpoint, credential=credential)"
   ]
  },
  {
   "cell_type": "markdown",
   "metadata": {},
   "source": [
    "# Main logic [chat_loop]"
   ]
  },
  {
   "cell_type": "code",
   "execution_count": 24,
   "metadata": {},
   "outputs": [],
   "source": [
    "def chat_loop():\n",
    "  user_question = ''\n",
    "  while True:\n",
    "    user_question = input('\\nQuestion (press Enter to exit):\\n')\n",
    "    if not user_question.strip():  # Check if the input is empty\n",
    "      print(\"Exiting...\")  # Inform the user and exit\n",
    "      break\n",
    "\n",
    "    response = ai_client.get_answers(question=user_question,\n",
    "                                     project_name=ai_project_name,\n",
    "                                     deployment_name=ai_deployment_name)\n",
    "    for candidate in response.answers:\n",
    "      print(candidate.answer)\n",
    "      print(f\"Confidence: {candidate.confidence}\")\n",
    "      print(f\"Source: {candidate.source}\")\n",
    "      print()"
   ]
  },
  {
   "cell_type": "code",
   "execution_count": 26,
   "metadata": {},
   "outputs": [],
   "source": [
    "# Call the function to start the chat loop\n",
    "# chat_loop()"
   ]
  },
  {
   "cell_type": "markdown",
   "metadata": {},
   "source": [
    "# get_and_display_answer()"
   ]
  },
  {
   "cell_type": "code",
   "execution_count": 41,
   "metadata": {},
   "outputs": [],
   "source": [
    "@lru_cache(maxsize=None)\n",
    "def get_answers_from_api(user_question):\n",
    "  response = ai_client.get_answers(question=user_question,\n",
    "                                   project_name=ai_project_name,\n",
    "                                   deployment_name=ai_deployment_name)\n",
    "  return response"
   ]
  },
  {
   "cell_type": "code",
   "execution_count": 42,
   "metadata": {},
   "outputs": [],
   "source": [
    "def get_and_display_answer(user_question):\n",
    "  response = get_answers_from_api(user_question)\n",
    "  for candidate in response.answers:\n",
    "    print(f\"{candidate.answer}\")\n",
    "    print(f\"Confidence: {candidate.confidence}\")\n",
    "    print(f\"Source: {candidate.source}\")"
   ]
  },
  {
   "cell_type": "code",
   "execution_count": 45,
   "metadata": {},
   "outputs": [
    {
     "name": "stdout",
     "output_type": "stream",
     "text": [
      "Hi!\n",
      "Confidence: 1.0\n",
      "Source: qna_chitchat_Friendly\n"
     ]
    }
   ],
   "source": [
    "get_and_display_answer('Hi')"
   ]
  },
  {
   "cell_type": "code",
   "execution_count": 47,
   "metadata": {},
   "outputs": [
    {
     "name": "stdout",
     "output_type": "stream",
     "text": [
      "\n",
      "Question 1: What is Microsoft Learn?\n",
      "\n",
      "Microsoft credentials enable you to validate and prove your skills with Microsoft technologies.\n",
      "Confidence: 0.39159999999999995\n",
      "Source: https://docs.microsoft.com/learn\n",
      "\n",
      "Question 2: What kind of training does Microsoft offer?\n",
      "\n",
      "learn new skills and discover the power of Microsoft products with step-by-step guidance. Start your journey today by exploring our learning paths and modules.\n",
      "Confidence: 0.6374\n",
      "Source: https://docs.microsoft.com/learn\n",
      "\n",
      "Question 3: How can I access Microsoft training resources?\n",
      "\n",
      "Microsoft credentials enable you to validate and prove your skills with Microsoft technologies.\n",
      "Confidence: 0.2175\n",
      "Source: https://docs.microsoft.com/learn\n",
      "\n",
      "Question 4: What topics are covered in Microsoft training?\n",
      "\n",
      "You can learn more about credentials on the [Microsoft credentials page](https://docs.microsoft.com/learn/credentials/).\n",
      "Confidence: 0.4731\n",
      "Source: Editorial\n",
      "\n",
      "Question 5: Can I access Microsoft training materials for free?\n",
      "\n",
      "You can learn more about credentials on the [Microsoft credentials page](https://docs.microsoft.com/learn/credentials/).\n",
      "Confidence: 0.2932\n",
      "Source: Editorial\n",
      "\n",
      "Question 6: What certifications can I earn through Microsoft Learn?\n",
      "\n",
      "Learning Paths\n",
      "\n",
      "Learn on your own schedule\n",
      "\n",
      "Explore a topic in-depth through guided paths or learn how to accomplish a specific task through individual modules.\n",
      "[Browse all learning options](https://docs.microsoft.com/en-us/learn/browse/)\n",
      "\n",
      "Certifications\n",
      "\n",
      "Become Microsoft certified\n",
      "\n",
      "Jump-start your career and demonstrate your achievements through industry-recognized Microsoft certifications.\n",
      "[Explore Certifications](https://docs.microsoft.com/en-us/learn/certifications/)\n",
      "\n",
      "Learn TV\n",
      "\n",
      "Watch live and recorded events\n",
      "\n",
      "View streaming technical content about Microsoft products from the experts that build and use it every day.\n",
      "[Start watching now](https://docs.microsoft.com/en-us/learn/tv/)\n",
      "Confidence: 0.6605\n",
      "Source: https://docs.microsoft.com/learn\n",
      "\n",
      "Question 7: Are there any prerequisites for Microsoft training courses?\n",
      "\n",
      "learn new skills and discover the power of Microsoft products with step-by-step guidance. Start your journey today by exploring our learning paths and modules.\n",
      "Confidence: 0.3589\n",
      "Source: https://docs.microsoft.com/learn\n",
      "\n",
      "Question 8: Can I track my progress in Microsoft training?\n",
      "\n",
      "learn new skills and discover the power of Microsoft products with step-by-step guidance. Start your journey today by exploring our learning paths and modules.\n",
      "Confidence: 0.28800000000000003\n",
      "Source: https://docs.microsoft.com/learn\n",
      "\n",
      "Question 9: Is there a community forum for Microsoft learners?\n",
      "\n",
      "Microsoft credentials enable you to validate and prove your skills with Microsoft technologies.\n",
      "Confidence: 0.0742\n",
      "Source: https://docs.microsoft.com/learn\n",
      "\n",
      "Question 10: How can I provide feedback on Microsoft training content?\n",
      "\n",
      "learn new skills and discover the power of Microsoft products with step-by-step guidance. Start your journey today by exploring our learning paths and modules.\n",
      "Confidence: 0.38299999999999995\n",
      "Source: https://docs.microsoft.com/learn\n"
     ]
    }
   ],
   "source": [
    "questions = [\n",
    "    \"What is Microsoft Learn?\",\n",
    "    \"What kind of training does Microsoft offer?\",\n",
    "    \"How can I access Microsoft training resources?\",\n",
    "    \"What topics are covered in Microsoft training?\",\n",
    "    \"Can I access Microsoft training materials for free?\",\n",
    "    \"What certifications can I earn through Microsoft Learn?\",\n",
    "    \"Are there any prerequisites for Microsoft training courses?\",\n",
    "    \"Can I track my progress in Microsoft training?\",\n",
    "    \"Is there a community forum for Microsoft learners?\",\n",
    "    \"How can I provide feedback on Microsoft training content?\"\n",
    "]\n",
    "\n",
    "for i in range(len(questions)):\n",
    "  print(f\"\\nQuestion {i + 1}:\", questions[i])\n",
    "  print()\n",
    "  get_and_display_answer(questions[i])"
   ]
  }
 ],
 "metadata": {
  "kernelspec": {
   "display_name": "Python 3",
   "language": "python",
   "name": "python3"
  },
  "language_info": {
   "codemirror_mode": {
    "name": "ipython",
    "version": 3
   },
   "file_extension": ".py",
   "mimetype": "text/x-python",
   "name": "python",
   "nbconvert_exporter": "python",
   "pygments_lexer": "ipython3",
   "version": "3.12.0"
  }
 },
 "nbformat": 4,
 "nbformat_minor": 2
}
