{
 "cells": [
  {
   "cell_type": "markdown",
   "metadata": {},
   "source": [
    "# Create a custom text classification solution\n",
    "\n",
    "The Azure AI Language service enables processing of natural language to use in your own app. Learn how to build a custom text classification project.\n",
    "\n",
    "- Understand types of classification projects\n",
    "- Build a custom text classification project\n",
    "- Tag data, train, and deploy a model\n",
    "- Submit classification tasks from your own app"
   ]
  },
  {
   "cell_type": "markdown",
   "metadata": {},
   "source": [
    "# Importing libraries"
   ]
  },
  {
   "cell_type": "code",
   "execution_count": 1,
   "metadata": {},
   "outputs": [],
   "source": [
    "from dotenv import load_dotenv\n",
    "import os"
   ]
  },
  {
   "cell_type": "code",
   "execution_count": 2,
   "metadata": {},
   "outputs": [],
   "source": [
    "from azure.core.credentials import AzureKeyCredential\n",
    "from azure.ai.textanalytics import TextAnalyticsClient"
   ]
  },
  {
   "cell_type": "markdown",
   "metadata": {},
   "source": [
    "# Loading configurations"
   ]
  },
  {
   "cell_type": "code",
   "execution_count": 3,
   "metadata": {},
   "outputs": [
    {
     "data": {
      "text/plain": [
       "True"
      ]
     },
     "execution_count": 3,
     "metadata": {},
     "output_type": "execute_result"
    }
   ],
   "source": [
    "load_dotenv()\n",
    "ai_endpoint = os.getenv('AI_LANGUAGE_SERVICE_ENDPOINT')\n",
    "ai_key = os.getenv('AI_LANGUAGE_SERVICE_KEY')\n",
    "project_name = os.getenv('PROJECT_NAME')\n",
    "deployment_name = os.getenv('DEPLOYMENT_NAME')"
   ]
  },
  {
   "cell_type": "markdown",
   "metadata": {},
   "source": [
    "# Creating SDK client"
   ]
  },
  {
   "cell_type": "code",
   "execution_count": 4,
   "metadata": {},
   "outputs": [],
   "source": [
    "credential = AzureKeyCredential(ai_key)\n",
    "ai_client = TextAnalyticsClient(endpoint=ai_endpoint, credential=credential)"
   ]
  },
  {
   "cell_type": "markdown",
   "metadata": {},
   "source": [
    "# Main logic"
   ]
  },
  {
   "cell_type": "code",
   "execution_count": 11,
   "metadata": {},
   "outputs": [],
   "source": [
    "def read_documents(folder_path):\n",
    "  documents = []\n",
    "  files = os.listdir(folder_path)\n",
    "\n",
    "  for file_name in files:\n",
    "    file_path = os.path.join(folder_path, file_name)\n",
    "    # Read the file contents\n",
    "    text = open(file_path, encoding='utf8').read()\n",
    "    documents.append(text)\n",
    "\n",
    "  return files, documents"
   ]
  },
  {
   "cell_type": "code",
   "execution_count": 10,
   "metadata": {},
   "outputs": [],
   "source": [
    "def classify_documents(documents):\n",
    "  operation = ai_client.begin_single_label_classify(\n",
    "      documents,\n",
    "      project_name=project_name,\n",
    "      deployment_name=deployment_name\n",
    "  )\n",
    "\n",
    "  return operation.result()"
   ]
  },
  {
   "cell_type": "code",
   "execution_count": 12,
   "metadata": {},
   "outputs": [],
   "source": [
    "def print_classification_results(file_names, results):\n",
    "  for file_name, classification_result in zip(file_names, results):\n",
    "    if classification_result.kind == \"CustomDocumentClassification\":\n",
    "      classification = classification_result.classifications[0]\n",
    "      print(f\"{file_name} was classified as '{\n",
    "            classification.category}' with confidence score {classification.confidence_score}.\")\n",
    "    elif classification_result.is_error is True:\n",
    "      print(f\"{file_name} has an error with code '{\n",
    "            classification_result.error.code}' and message '{classification_result.error.message}'\")"
   ]
  },
  {
   "cell_type": "code",
   "execution_count": 15,
   "metadata": {},
   "outputs": [
    {
     "name": "stdout",
     "output_type": "stream",
     "text": [
      "test1.txt was classified as 'Entertainment' with confidence score 0.33.\n",
      "test2.txt was classified as 'Sports' with confidence score 0.33.\n",
      "test3.txt was classified as 'Sports' with confidence score 0.32.\n",
      "test4.txt was classified as 'Entertainment' with confidence score 0.34.\n"
     ]
    }
   ],
   "source": [
    "file_names, batched_documents = read_documents('./Testing-Data/')\n",
    "document_results = classify_documents(batched_documents)\n",
    "print_classification_results(file_names, document_results)"
   ]
  }
 ],
 "metadata": {
  "kernelspec": {
   "display_name": "Python 3",
   "language": "python",
   "name": "python3"
  },
  "language_info": {
   "codemirror_mode": {
    "name": "ipython",
    "version": 3
   },
   "file_extension": ".py",
   "mimetype": "text/x-python",
   "name": "python",
   "nbconvert_exporter": "python",
   "pygments_lexer": "ipython3",
   "version": "3.12.0"
  }
 },
 "nbformat": 4,
 "nbformat_minor": 2
}
