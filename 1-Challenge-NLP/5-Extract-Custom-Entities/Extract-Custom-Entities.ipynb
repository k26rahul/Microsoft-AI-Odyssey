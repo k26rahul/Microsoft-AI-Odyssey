{
 "cells": [
  {
   "cell_type": "markdown",
   "metadata": {},
   "source": [
    "# Create a custom named entity extraction solution\n",
    "\n",
    "Build a custom entity recognition solution to extract entities from unstructured documents\n",
    "\n",
    "- Understand custom named entities and how they're labeled.\n",
    "- Build a Language service project.\n",
    "- Label data, train, and deploy an entity extraction model.\n",
    "- Submit extraction tasks from your own app."
   ]
  },
  {
   "cell_type": "markdown",
   "metadata": {},
   "source": [
    "# Importing libraries"
   ]
  },
  {
   "cell_type": "code",
   "execution_count": 2,
   "metadata": {},
   "outputs": [],
   "source": [
    "from dotenv import load_dotenv\n",
    "import os"
   ]
  },
  {
   "cell_type": "code",
   "execution_count": 1,
   "metadata": {},
   "outputs": [],
   "source": [
    "from azure.core.credentials import AzureKeyCredential\n",
    "from azure.ai.textanalytics import TextAnalyticsClient"
   ]
  },
  {
   "cell_type": "markdown",
   "metadata": {},
   "source": [
    "# Loading configurations"
   ]
  },
  {
   "cell_type": "code",
   "execution_count": 3,
   "metadata": {},
   "outputs": [
    {
     "data": {
      "text/plain": [
       "True"
      ]
     },
     "execution_count": 3,
     "metadata": {},
     "output_type": "execute_result"
    }
   ],
   "source": [
    "load_dotenv()\n",
    "ai_endpoint = os.getenv('AI_LANGUAGE_SERVICE_ENDPOINT')\n",
    "ai_key = os.getenv('AI_LANGUAGE_SERVICE_KEY')\n",
    "project_name = os.getenv('PROJECT_NAME')\n",
    "deployment_name = os.getenv('DEPLOYMENT_NAME')"
   ]
  },
  {
   "cell_type": "markdown",
   "metadata": {},
   "source": [
    "# Creating SDK client"
   ]
  },
  {
   "cell_type": "code",
   "execution_count": 4,
   "metadata": {},
   "outputs": [],
   "source": [
    "credential = AzureKeyCredential(ai_key)\n",
    "ai_client = TextAnalyticsClient(endpoint=ai_endpoint, credential=credential)"
   ]
  },
  {
   "cell_type": "markdown",
   "metadata": {},
   "source": [
    "# Main logic"
   ]
  },
  {
   "cell_type": "code",
   "execution_count": 10,
   "metadata": {},
   "outputs": [],
   "source": [
    "def read_documents(folder_path):\n",
    "  documents = []\n",
    "  files = os.listdir(folder_path)\n",
    "\n",
    "  for file_name in files:\n",
    "    file_path = os.path.join(folder_path, file_name)\n",
    "    # Read the file contents\n",
    "    text = open(file_path, encoding='utf8').read()\n",
    "    documents.append(text)\n",
    "\n",
    "  return files, documents"
   ]
  },
  {
   "cell_type": "code",
   "execution_count": 11,
   "metadata": {},
   "outputs": [],
   "source": [
    "\n",
    "def extract_custom_entities(documents):\n",
    "  operation = ai_client.begin_recognize_custom_entities(\n",
    "      documents,\n",
    "      project_name=project_name,\n",
    "      deployment_name=deployment_name\n",
    "  )\n",
    "\n",
    "  return operation.result()"
   ]
  },
  {
   "cell_type": "code",
   "execution_count": 12,
   "metadata": {},
   "outputs": [],
   "source": [
    "def print_entities_results(file_names, results):\n",
    "  for file_name, entities_result in zip(file_names, results):\n",
    "    print(file_name)\n",
    "    if entities_result.kind == \"CustomEntityRecognition\":\n",
    "      for entity in entities_result.entities:\n",
    "        print(f\"\\tEntity '{entity.text}' has category '{\n",
    "              entity.category}' with confidence score of '{entity.confidence_score}'\")\n",
    "    elif entities_result.is_error is True:\n",
    "      print(f\"\\tError with code '{entities_result.error.code}' and message '{\n",
    "            entities_result.error.message}'\")"
   ]
  },
  {
   "cell_type": "code",
   "execution_count": 13,
   "metadata": {},
   "outputs": [
    {
     "name": "stdout",
     "output_type": "stream",
     "text": [
      "test1.txt\n",
      "\tEntity 'Bluetooth earbuds' has category 'ItemForSale' with confidence score of '0.97'\n",
      "\tEntity '$100' has category 'Price' with confidence score of '0.98'\n",
      "\tEntity 'Sacramento, CA' has category 'Location' with confidence score of '0.99'\n",
      "test2.txt\n",
      "\tEntity 'Dog harness' has category 'ItemForSale' with confidence score of '0.98'\n",
      "\tEntity '$20' has category 'Price' with confidence score of '0.99'\n",
      "\tEntity 'Tucson, AZ' has category 'Location' with confidence score of '0.99'\n"
     ]
    }
   ],
   "source": [
    "file_names, batched_documents = read_documents('./Testing-Data/')\n",
    "entities_results = extract_custom_entities(batched_documents)\n",
    "print_entities_results(file_names, entities_results)"
   ]
  }
 ],
 "metadata": {
  "kernelspec": {
   "display_name": "Python 3",
   "language": "python",
   "name": "python3"
  },
  "language_info": {
   "codemirror_mode": {
    "name": "ipython",
    "version": 3
   },
   "file_extension": ".py",
   "mimetype": "text/x-python",
   "name": "python",
   "nbconvert_exporter": "python",
   "pygments_lexer": "ipython3",
   "version": "3.12.0"
  }
 },
 "nbformat": 4,
 "nbformat_minor": 2
}
