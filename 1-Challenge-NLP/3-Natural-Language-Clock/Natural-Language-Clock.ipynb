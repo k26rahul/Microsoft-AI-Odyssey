{
 "cells": [
  {
   "cell_type": "markdown",
   "metadata": {},
   "source": [
    "# Build a conversational language understanding model\n",
    "\n",
    "The Azure AI Language conversational language understanding service (CLU) enables you to train a model that apps can use to extract meaning from natural language.\n",
    "\n",
    "- Provision Azure resources for Azure AI Language resource\n",
    "- Define intents, utterances, and entities\n",
    "- Use patterns to differentiate similar utterances\n",
    "- Use pre-built entity components\n",
    "- Train, test, publish, and review an Azure AI Language model"
   ]
  },
  {
   "cell_type": "markdown",
   "metadata": {},
   "source": [
    "# Importing libraries"
   ]
  },
  {
   "cell_type": "code",
   "execution_count": 49,
   "metadata": {},
   "outputs": [],
   "source": [
    "from dotenv import load_dotenv\n",
    "import os\n",
    "import json\n",
    "from datetime import date"
   ]
  },
  {
   "cell_type": "code",
   "execution_count": 50,
   "metadata": {},
   "outputs": [],
   "source": [
    "from azure.core.credentials import AzureKeyCredential\n",
    "from azure.ai.language.conversations import ConversationAnalysisClient"
   ]
  },
  {
   "cell_type": "code",
   "execution_count": 51,
   "metadata": {},
   "outputs": [],
   "source": [
    "from functools import lru_cache"
   ]
  },
  {
   "cell_type": "markdown",
   "metadata": {},
   "source": [
    "# Loading configurations"
   ]
  },
  {
   "cell_type": "code",
   "execution_count": 52,
   "metadata": {},
   "outputs": [
    {
     "data": {
      "text/plain": [
       "True"
      ]
     },
     "execution_count": 52,
     "metadata": {},
     "output_type": "execute_result"
    }
   ],
   "source": [
    "load_dotenv()\n",
    "ai_endpoint = os.getenv('AI_LANGUAGE_SERVICE_ENDPOINT')\n",
    "ai_key = os.getenv('AI_LANGUAGE_SERVICE_KEY')\n",
    "project_name = os.getenv('PROJECT_NAME')\n",
    "deployment_name = os.getenv('DEPLOYMENT_NAME')"
   ]
  },
  {
   "cell_type": "markdown",
   "metadata": {},
   "source": [
    "# Calling API [analyze_conversation()]"
   ]
  },
  {
   "cell_type": "code",
   "execution_count": 53,
   "metadata": {},
   "outputs": [],
   "source": [
    "@lru_cache(maxsize=None)\n",
    "def analyze_conversation(query_text):\n",
    "  client = ConversationAnalysisClient(ai_endpoint, AzureKeyCredential(ai_key))\n",
    "\n",
    "  with client:\n",
    "    result = client.analyze_conversation(\n",
    "        task={\n",
    "            \"kind\": \"Conversation\",\n",
    "            \"analysisInput\": {\n",
    "                \"conversationItem\": {\n",
    "                    \"participantId\": \"1\",\n",
    "                    \"id\": \"1\",\n",
    "                    \"modality\": \"text\",\n",
    "                    \"language\": \"en\",\n",
    "                    \"text\": query_text\n",
    "                },\n",
    "                \"isLoggingEnabled\": False\n",
    "            },\n",
    "            \"parameters\": {\n",
    "                \"projectName\": project_name,\n",
    "                \"deploymentName\": deployment_name,\n",
    "                \"verbose\": True\n",
    "            }\n",
    "        }\n",
    "    )\n",
    "\n",
    "  return result"
   ]
  },
  {
   "cell_type": "code",
   "execution_count": 54,
   "metadata": {},
   "outputs": [
    {
     "name": "stdout",
     "output_type": "stream",
     "text": [
      "{\n",
      "  \"kind\": \"ConversationResult\",\n",
      "  \"result\": {\n",
      "    \"query\": \"Hi what's the current time?\",\n",
      "    \"prediction\": {\n",
      "      \"topIntent\": \"GetTime\",\n",
      "      \"projectKind\": \"Conversation\",\n",
      "      \"intents\": [\n",
      "        {\n",
      "          \"category\": \"GetTime\",\n",
      "          \"confidenceScore\": 0.9576142\n",
      "        },\n",
      "        {\n",
      "          \"category\": \"GetDate\",\n",
      "          \"confidenceScore\": 0.9167327\n",
      "        },\n",
      "        {\n",
      "          \"category\": \"GetDay\",\n",
      "          \"confidenceScore\": 0.8541195\n",
      "        },\n",
      "        {\n",
      "          \"category\": \"None\",\n",
      "          \"confidenceScore\": 0\n",
      "        }\n",
      "      ],\n",
      "      \"entities\": []\n",
      "    }\n",
      "  }\n",
      "}\n"
     ]
    }
   ],
   "source": [
    "print(json.dumps(analyze_conversation(\"Hi what's the current time?\"), indent=2))"
   ]
  },
  {
   "cell_type": "markdown",
   "metadata": {},
   "source": [
    "# Handling user intents"
   ]
  },
  {
   "cell_type": "code",
   "execution_count": 55,
   "metadata": {},
   "outputs": [],
   "source": [
    "def handle_get_time(entities):\n",
    "  location = 'local'\n",
    "  if entities:\n",
    "    for entity in entities:\n",
    "      if entity.get(\"category\") == 'Location':\n",
    "        location = entity.get(\"text\")\n",
    "\n",
    "  print(f\"You asked for the time in: {location}\")\n",
    "  print()\n",
    "\n",
    "\n",
    "def handle_get_day(entities):\n",
    "  date_string = date.today().strftime(\"%m/%d/%Y\")\n",
    "  if entities:\n",
    "    for entity in entities:\n",
    "      if entity.get(\"category\") == 'Date':\n",
    "        date_string = entity.get(\"text\")\n",
    "\n",
    "  print(f\"You asked for the day on: {date_string}\")\n",
    "  print()\n",
    "\n",
    "\n",
    "def handle_get_date(entities):\n",
    "  day = 'today'\n",
    "  if entities:\n",
    "    for entity in entities:\n",
    "      if entity.get(\"category\") == 'Weekday':\n",
    "        day = entity.get(\"text\")\n",
    "\n",
    "  print(f\"You asked for the date on: {day}\")\n",
    "  print()"
   ]
  },
  {
   "cell_type": "code",
   "execution_count": 56,
   "metadata": {},
   "outputs": [],
   "source": [
    "intent_handlers = {\n",
    "    'GetTime': handle_get_time,\n",
    "    'GetDay': handle_get_day,\n",
    "    'GetDate': handle_get_date\n",
    "}\n",
    "\n",
    "\n",
    "def handle_intent(top_intent, entities):\n",
    "  handler = intent_handlers.get(top_intent)\n",
    "  if handler:\n",
    "    handler(entities)\n",
    "  else:\n",
    "    print('Try asking me for the time, the day, or the date.')"
   ]
  },
  {
   "cell_type": "code",
   "execution_count": 57,
   "metadata": {},
   "outputs": [],
   "source": [
    "def analyze_and_handle_intent(query):\n",
    "  print(f\"Query: {query}\")\n",
    "\n",
    "  result = analyze_conversation(query)\n",
    "  top_intent = result[\"result\"][\"prediction\"][\"topIntent\"]\n",
    "  confidence = result[\"result\"][\"prediction\"][\"intents\"][0][\"confidenceScore\"]\n",
    "  entities = result[\"result\"][\"prediction\"][\"entities\"]\n",
    "\n",
    "  print(f\"Top Intent: {top_intent} (Confidence: {confidence})\")\n",
    "  print(\"Entities:\")\n",
    "  for entity in entities:\n",
    "    print(f\"  - Category: {entity.get('category')\n",
    "                           }, Text: {entity.get('text')}\")\n",
    "\n",
    "  print()\n",
    "  handle_intent(top_intent, entities)"
   ]
  },
  {
   "cell_type": "markdown",
   "metadata": {},
   "source": [
    "# Main logic"
   ]
  },
  {
   "cell_type": "code",
   "execution_count": 58,
   "metadata": {},
   "outputs": [
    {
     "name": "stdout",
     "output_type": "stream",
     "text": [
      "You asked for the time in: London\n",
      "\n"
     ]
    }
   ],
   "source": [
    "handle_get_time([{'category': 'Location', 'text': 'London'}])"
   ]
  },
  {
   "cell_type": "code",
   "execution_count": 59,
   "metadata": {},
   "outputs": [
    {
     "name": "stdout",
     "output_type": "stream",
     "text": [
      "Query: Can you tell me what's the day in London in 26 January 2024?\n"
     ]
    },
    {
     "name": "stdout",
     "output_type": "stream",
     "text": [
      "Top Intent: GetDay (Confidence: 0.8828023)\n",
      "Entities:\n",
      "  - Category: Location, Text: London\n",
      "  - Category: Date, Text: 26 January 2024\n",
      "\n",
      "You asked for the day on: 26 January 2024\n",
      "\n"
     ]
    }
   ],
   "source": [
    "analyze_and_handle_intent(\n",
    "    \"Can you tell me what's the day in London in 26 January 2024?\")"
   ]
  },
  {
   "cell_type": "code",
   "execution_count": 60,
   "metadata": {},
   "outputs": [
    {
     "name": "stdout",
     "output_type": "stream",
     "text": [
      "Query: Can you tell me what was the date on last Wednesday in Delhi?\n",
      "Top Intent: GetDate (Confidence: 0.91121244)\n",
      "Entities:\n",
      "  - Category: Date, Text: last Wednesday\n",
      "  - Category: Weekday, Text: Wednesday\n",
      "  - Category: Location, Text: Delhi\n",
      "\n",
      "You asked for the date on: Wednesday\n",
      "\n"
     ]
    }
   ],
   "source": [
    "analyze_and_handle_intent(\n",
    "    \"Can you tell me what was the date on last Wednesday in Delhi?\")"
   ]
  }
 ],
 "metadata": {
  "kernelspec": {
   "display_name": "Python 3",
   "language": "python",
   "name": "python3"
  },
  "language_info": {
   "codemirror_mode": {
    "name": "ipython",
    "version": 3
   },
   "file_extension": ".py",
   "mimetype": "text/x-python",
   "name": "python",
   "nbconvert_exporter": "python",
   "pygments_lexer": "ipython3",
   "version": "3.12.0"
  }
 },
 "nbformat": 4,
 "nbformat_minor": 2
}
