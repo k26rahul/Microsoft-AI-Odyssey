{
 "cells": [
  {
   "cell_type": "markdown",
   "metadata": {},
   "source": [
    "# Translate text with Azure AI Translator service\n",
    "\n",
    "The Translator service enables you to create intelligent apps and services that can translate text between languages.\n",
    "\n",
    "- Provision a Translator resource\n",
    "- Understand language detection, translation, and transliteration\n",
    "- Specify translation options\n",
    "- Define custom translations"
   ]
  },
  {
   "cell_type": "markdown",
   "metadata": {},
   "source": [
    "# Importing libraries"
   ]
  },
  {
   "cell_type": "code",
   "execution_count": 1,
   "metadata": {},
   "outputs": [],
   "source": [
    "from dotenv import load_dotenv\n",
    "import os"
   ]
  },
  {
   "cell_type": "code",
   "execution_count": 2,
   "metadata": {},
   "outputs": [],
   "source": [
    "from azure.ai.translation.text import *\n",
    "from azure.ai.translation.text.models import InputTextItem"
   ]
  },
  {
   "cell_type": "code",
   "execution_count": 3,
   "metadata": {},
   "outputs": [],
   "source": [
    "from functools import lru_cache"
   ]
  },
  {
   "cell_type": "markdown",
   "metadata": {},
   "source": [
    "# Loading configurations"
   ]
  },
  {
   "cell_type": "code",
   "execution_count": 4,
   "metadata": {},
   "outputs": [
    {
     "data": {
      "text/plain": [
       "True"
      ]
     },
     "execution_count": 4,
     "metadata": {},
     "output_type": "execute_result"
    }
   ],
   "source": [
    "load_dotenv()\n",
    "translatorRegion = os.getenv('TRANSLATOR_REGION')\n",
    "translatorKey = os.getenv('TRANSLATOR_KEY')"
   ]
  },
  {
   "cell_type": "markdown",
   "metadata": {},
   "source": [
    "# Initializing client"
   ]
  },
  {
   "cell_type": "code",
   "execution_count": 5,
   "metadata": {},
   "outputs": [],
   "source": [
    "credential = TranslatorCredential(translatorKey, translatorRegion)\n",
    "client = TextTranslationClient(credential)"
   ]
  },
  {
   "cell_type": "markdown",
   "metadata": {},
   "source": [
    "# Check language support"
   ]
  },
  {
   "cell_type": "code",
   "execution_count": 6,
   "metadata": {},
   "outputs": [],
   "source": [
    "@lru_cache(maxsize=None)\n",
    "def get_supported_languages():\n",
    "  return client.get_languages(scope=\"translation\")\n",
    "\n",
    "\n",
    "def check_language_support(target_language):\n",
    "  languages_response = get_supported_languages()\n",
    "  supported_languages = languages_response.translation.keys()\n",
    "\n",
    "  print(f\"{len(supported_languages)} languages supported.\")\n",
    "  if target_language in supported_languages:\n",
    "    print(f\"{target_language} ({\n",
    "          languages_response.translation[target_language]['name']}) is a supported language.\")\n",
    "  else:\n",
    "    print(f\"{target_language} is not a supported language.\")\n",
    "\n",
    "  print()"
   ]
  },
  {
   "cell_type": "code",
   "execution_count": 7,
   "metadata": {},
   "outputs": [
    {
     "name": "stdout",
     "output_type": "stream",
     "text": [
      "135 languages supported.\n",
      "es (Spanish) is a supported language.\n",
      "\n"
     ]
    }
   ],
   "source": [
    "check_language_support('es')"
   ]
  },
  {
   "cell_type": "markdown",
   "metadata": {},
   "source": [
    "# Translation API call"
   ]
  },
  {
   "cell_type": "code",
   "execution_count": 8,
   "metadata": {},
   "outputs": [],
   "source": [
    "@lru_cache(maxsize=None)\n",
    "def get_translation(input_text, target_language):\n",
    "  input_text_elements = [{\"text\": input_text}]\n",
    "  translation_response = client.translate(\n",
    "      content=input_text_elements, to=[target_language])\n",
    "  translation = translation_response[0] if translation_response else None\n",
    "  return translation"
   ]
  },
  {
   "cell_type": "code",
   "execution_count": 9,
   "metadata": {},
   "outputs": [],
   "source": [
    "def translate_text(input_text, target_language):\n",
    "  translation = translation = get_translation(input_text, target_language)\n",
    "\n",
    "  if translation:\n",
    "    source_language = translation.detected_language\n",
    "    for translated_text in translation.translations:\n",
    "      print(f\"Input {source_language}: '{input_text}'\")\n",
    "      print(f\"{source_language} -> {translated_text.to}\")\n",
    "      print(f\"Translated: '{translated_text.text}'\")\n",
    "      print()"
   ]
  },
  {
   "cell_type": "markdown",
   "metadata": {},
   "source": [
    "# Main logic"
   ]
  },
  {
   "cell_type": "code",
   "execution_count": 10,
   "metadata": {},
   "outputs": [
    {
     "name": "stdout",
     "output_type": "stream",
     "text": [
      "135 languages supported.\n",
      "es (Spanish) is a supported language.\n",
      "\n",
      "Input {'language': 'en', 'score': 1.0}: 'Sanika is a star ⭐'\n",
      "{'language': 'en', 'score': 1.0} -> es\n",
      "Translated: 'Sanika es una estrella ⭐'\n",
      "\n"
     ]
    }
   ],
   "source": [
    "target_language = 'es'\n",
    "input_text = 'Sanika is a star ⭐'\n",
    "\n",
    "check_language_support(target_language)\n",
    "translate_text(input_text, target_language)"
   ]
  }
 ],
 "metadata": {
  "kernelspec": {
   "display_name": "Python 3",
   "language": "python",
   "name": "python3"
  },
  "language_info": {
   "codemirror_mode": {
    "name": "ipython",
    "version": 3
   },
   "file_extension": ".py",
   "mimetype": "text/x-python",
   "name": "python",
   "nbconvert_exporter": "python",
   "pygments_lexer": "ipython3",
   "version": "3.12.0"
  }
 },
 "nbformat": 4,
 "nbformat_minor": 2
}
